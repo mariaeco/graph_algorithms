{
  "cells": [
    {
      "cell_type": "markdown",
      "metadata": {
        "id": "fd6OUl1EZb_S"
      },
      "source": [
        "#PROJECT 3 - GRAPH THEORY - MINIMUM CUT\n",
        "KARGER ALGORITHM IMPLEMENTATION\n",
        "NAIVE ALGORITHM FOR MINIMUM CUT"
      ]
    },
    {
      "cell_type": "markdown",
      "metadata": {
        "id": "KqJB8_j0Zb_T"
      },
      "source": [
        "IMPLEMTENTAÇÃO DO ALGORITMO DE CORTE MÍNIMO DE KARGER\n",
        "1) escolho uma aresta aleatória\n",
        "2) faço a contração dessa aresta, criando um supervértice (Cada contração aumentará esse supervértice ou criará um novo supervértice)\n",
        "3) faço esse procedimento acima até ter apenas 1 aresta ou 2 vértices (vertice orignal+supervertice ou supervertice + supervertice)\n",
        "\n",
        "Como conto os cortes?\n",
        "\n",
        "Os vértices que contém duas ou mais arestas vão ser levados para um supervértice por uma delas, mas não pelas outras. Estas que sobram serão as somadas para o corte ao final\n"
      ]
    },
    {
      "cell_type": "code",
      "source": [
        "# #Para abrir no de Maria\n",
        "from google.colab import drive\n",
        "drive.mount('/content/drive')\n",
        "\n",
        "# Para abrir no de Ingrid\n",
        "# colocar o arquivo teste"
      ],
      "metadata": {
        "id": "rljQrc6rZqKZ",
        "colab": {
          "base_uri": "https://localhost:8080/"
        },
        "outputId": "f5af99e5-f87e-4998-c605-afa5d2139754"
      },
      "execution_count": 1,
      "outputs": [
        {
          "output_type": "stream",
          "name": "stdout",
          "text": [
            "Mounted at /content/drive\n"
          ]
        }
      ]
    },
    {
      "cell_type": "code",
      "execution_count": 2,
      "metadata": {
        "id": "ew1jKjQuZb_U"
      },
      "outputs": [],
      "source": [
        "import pandas as pd\n",
        "import numpy as np\n",
        "import random\n",
        "import copy\n",
        "from collections import Counter\n",
        "import matplotlib.pyplot as plt"
      ]
    },
    {
      "cell_type": "code",
      "execution_count": 3,
      "metadata": {
        "id": "zit2vEeiZb_V"
      },
      "outputs": [],
      "source": [
        "class Graph:\n",
        "    def __init__(self, archive):\n",
        "        self.nvertex, self.adjmatrix, self.adjlist, self.arestas, self.vertices = self.openFile(archive)\n",
        "\n",
        "    def openFile(self, archive):\n",
        "        with open(archive, 'r') as file:\n",
        "            nvertex = int(file.readline())\n",
        "            line = file.readlines()\n",
        "            adjmatrix = [list(map(lambda x: int(x), l.split())) for l in line[0:]]\n",
        "            adjlist = [[] for _ in range(nvertex)]\n",
        "\n",
        "            for i in range(nvertex):\n",
        "                for j in range(nvertex):\n",
        "                    if adjmatrix[i][j] == 1:\n",
        "                        adjlist[i].append(j)\n",
        "\n",
        "         # preenchendo a lista de arestas\n",
        "        arestas = []\n",
        "        for k in range(nvertex):\n",
        "            for z in range(nvertex):\n",
        "                if adjmatrix[k][z] == 1 and (z+1,k+1) not in arestas:\n",
        "                    arestas.append((k+1,z+1))\n",
        "        print(arestas)\n",
        "\n",
        "        # criando a lista de vertices\n",
        "        vertices = []\n",
        "        for h in range(nvertex):\n",
        "            vertices.append(h+1)\n",
        "        print(\"\\ARESTAS:\")\n",
        "        print(vertices)\n",
        "\n",
        "        return nvertex, adjmatrix, adjlist, arestas, vertices\n",
        "\n",
        "    def printMatrix(self):\n",
        "        print(\"Adjacency Matrix:\")\n",
        "        print(\" \", np.arange(0, len(self.adjmatrix), 1))\n",
        "        for i, l in enumerate(self.adjmatrix):\n",
        "            print(f'{i} |{\" \".join(map(str, l))}')\n",
        "\n",
        "    def printList(self):\n",
        "        print(\"\\nAdjacency List:\")\n",
        "        for i, ladj in enumerate(self.adjlist):\n",
        "            print(f'{i}: {\"-> \".join(map(str, ladj))}')\n",
        "\n"
      ]
    },
    {
      "cell_type": "code",
      "source": [
        "class Karger:\n",
        "\n",
        "    def __init__(self, adj_list):\n",
        "        self.adjlist = adj_list\n",
        "        self.max = len(self.adjlist) # maior vértice\n",
        "        self.edges = {}\n",
        "        self.cortes = []\n",
        "\n",
        "    def Edges(self): # obtendo todas as arestas do grafo\n",
        "        edges = []\n",
        "        for i in range(0, len(self.adjlist)):\n",
        "            for j in self.adjlist[i]:\n",
        "                if [j,i] not in edges: #nao quero que seja uma tupla, pois nao poderei modificar\n",
        "                    edges.append([i,j])\n",
        "\n",
        "        for i in range(len(edges)):\n",
        "            self.edges[i] = edges[i]\n",
        "\n",
        "        return self.edges\n",
        "\n",
        "    def deletarDuplicadas(self, edges, unused_edges, notused):\n",
        "        arestas_visitadas = set()  # Conjunto para armazenar arestas já visitadas\n",
        "\n",
        "        for key, edge in list(edges.items()):  # Usamos list() para criar uma cópia dos itens do dicionário para iterar sobre eles\n",
        "            # Ordenamos a aresta para garantir consistência na comparação\n",
        "            aresta_ordenada = tuple(sorted(edge))\n",
        "\n",
        "            if aresta_ordenada in arestas_visitadas:\n",
        "                # Se a aresta já foi visitada, ela é repetida\n",
        "                #entao deletar ela e seu index e guardar ela em nao usadas\n",
        "                del edges[key]\n",
        "                unused_edges.remove(key)\n",
        "                notused.append(key)\n",
        "\n",
        "            else:\n",
        "                # Se a aresta não foi visitada antes, adicionamos ao conjunto de arestas visitadas\n",
        "                arestas_visitadas.add(aresta_ordenada)\n",
        "\n",
        "\n",
        "    def karger(self, n_iter):\n",
        "        interacaousada = n_iter\n",
        "        minCut = []\n",
        "        corteminimo = []\n",
        "\n",
        "        while (n_iter > 0):\n",
        "            edgescopy = copy.deepcopy(self.edges)\n",
        "            unused_indexes = list(edgescopy.keys())\n",
        "            supervertices = {}\n",
        "            not_used = []\n",
        "            corte = 0\n",
        "            arestas_usadas = []\n",
        "\n",
        "            while(len(edgescopy)>1): # enquanto houver mais de 2 vértice\n",
        "                u_index = None\n",
        "                v_index = None\n",
        "                chosen_index = random.choice(unused_indexes)\n",
        "                chosen = edgescopy[chosen_index]\n",
        "                arestas_usadas.append(self.edges[chosen_index])\n",
        "\n",
        "                u, v = chosen\n",
        "\n",
        "                #REMOVENDO o index usados para não serem sorteados novamente\n",
        "                #deixando apenas os indices das aretas não usadas para rastrear depois\n",
        "                unused_indexes.remove(chosen_index)\n",
        "\n",
        "                #removendo a aresta usada\n",
        "                for key, edge in list(edgescopy.items()):\n",
        "                    if chosen == edge:\n",
        "                        del edgescopy[key]\n",
        "                        break\n",
        "\n",
        "                #juntar u e v como a superaresta\n",
        "                for key, edge in list(edgescopy.items()):\n",
        "                    for i in range(len(edge)):\n",
        "                        if edge[i] == v:\n",
        "                            edge[i] = u\n",
        "\n",
        "                #verificar se nas arestas modificadss, houve uma duplicação de aresta\n",
        "                self.deletarDuplicadas(edgescopy,unused_indexes, not_used)\n",
        "\n",
        "                #O CODIGO ABAIXO CONSTROI OS SUPERVÉRTICES -----------------------------\n",
        "                # Verifica se ui e vi está em algum supervértice existente, e guarda seu index\n",
        "                u, v = self.edges[chosen_index]\n",
        "                for index, supervertex in supervertices.items():\n",
        "                    if u in supervertex:\n",
        "                        u_index = index\n",
        "                        break\n",
        "                for index, supervertex in supervertices.items():\n",
        "                    if v in supervertex:\n",
        "                        v_index = index\n",
        "                        break\n",
        "\n",
        "                # Encontra o índice do supervértice contendo u, se existir\n",
        "                for index, supervertex in supervertices.items():\n",
        "                    if u in supervertex:\n",
        "                        u_index = index\n",
        "                        break\n",
        "                # Encontra o índice do supervértice contendo v, se existir\n",
        "                for index, supervertex in supervertices.items():\n",
        "                    if v in supervertex:\n",
        "                        v_index = index\n",
        "                        break\n",
        "\n",
        "                if u_index is None and v_index is None:\n",
        "                    #SE NENHUM DOS INDICES ESTA EM SUPERVERTICE, FORMAMOS O NOVO SUPERVERTICE\n",
        "                    new_supervertex = len(supervertices) + 1\n",
        "                    supervertices[new_supervertex] = [u, v]\n",
        "                if u_index is not None and v_index is None:\n",
        "                    #se u estiver em algum supervetex e v não, adicionar o v junto ao supervetice que contem u\n",
        "                    supervertices[u_index].append(v)\n",
        "                if v_index is not None and u_index is None:\n",
        "                    #se v estiver em algum supervetex e u não, adicionar o u junto ao supervetice que contem v\n",
        "                    supervertices[v_index].append(u)\n",
        "\n",
        "\n",
        "            #juntando todas as arestas restantes a nao usadas:\n",
        "            for i in not_used:\n",
        "                unused_indexes.append(i)\n",
        "\n",
        "            #vendo as arestas nao usadas\n",
        "            not_used_edges = []\n",
        "            for a in unused_indexes:\n",
        "                not_used_edges.append(self.edges[a])\n",
        "\n",
        "            #calculando o corte:\n",
        "            for edge in not_used_edges:\n",
        "                u_index = None\n",
        "                v_index = None\n",
        "                for index, supervertex in supervertices.items():\n",
        "                    if edge[0] in supervertex:\n",
        "                        u_index = index\n",
        "                    else:\n",
        "                        u_index = None\n",
        "                    if edge[1] in supervertex:\n",
        "                        v_index = index\n",
        "                    else:\n",
        "                        v_index = None\n",
        "                    if u_index != v_index:\n",
        "                        corte += 1\n",
        "                        break\n",
        "\n",
        "            corteminimo.append(corte) #corte minimo da interação atual\n",
        "            n_iter -=1\n",
        "\n",
        "        minCut = min(corteminimo)\n",
        "        return minCut"
      ],
      "metadata": {
        "id": "rUAeQDcLADf6"
      },
      "execution_count": 109,
      "outputs": []
    },
    {
      "cell_type": "code",
      "source": [
        "class ingenuo:\n",
        "    def __init__(self, adjlist, arestas, nvertex):\n",
        "        self.v = list(range(len(adjlist)))\n",
        "        self.qtd_vertices = nvertex\n",
        "        self.arestas = arestas\n",
        "        self.s = []\n",
        "        self.sc = []\n",
        "\n",
        "\n",
        "\n",
        "    def corte_ingenuo(self,n_iter):\n",
        "        minCut = []\n",
        "        corteminimo = []\n",
        "        while (n_iter > 0):\n",
        "            self.arestas_corte = []\n",
        "            self.qtd_arestas_corte = []\n",
        "            # escolher aleatoriamente um número entre 1 e qtd_vertices. Esse número (x) será a qtd de vértices que irá para um dos grupos\n",
        "            # o outro grupo será composto por qtd_vertices-x\n",
        "            n_s = random.choice(range(1,self.qtd_vertices))\n",
        "            self.s = random.sample(self.v, n_s)\n",
        "            self.sc = [v for v in self.v if v not in self.s] #escolher os vertices em self.v que não foram selecionados para s\n",
        "\n",
        "            #print(\"Conjunto S\", self.s)\n",
        "            #print(\"Conjunto SC\",self.sc)\n",
        "\n",
        "\n",
        "            for i in range(len(self.arestas)):\n",
        "                if (self.arestas[i][0] in self.s and self.arestas [i][1] in self.sc) or (self.arestas[i][0] in self.sc and self.arestas [i][1] in self.s):\n",
        "                    self.arestas_corte.append(self.arestas[i])\n",
        "\n",
        "            # declaranto e atribuindo valor À variável com o tamanho da lista de arestas de corte\n",
        "            self.qtd_arestas_corte = len(self.arestas_corte)\n",
        "            corteminimo.append(self.qtd_arestas_corte)\n",
        "            n_iter -=1\n",
        "        minCut = min(corteminimo)\n",
        "        return self.qtd_arestas_corte"
      ],
      "metadata": {
        "id": "4XJiPhNRUFnc"
      },
      "execution_count": 110,
      "outputs": []
    },
    {
      "cell_type": "code",
      "execution_count": 111,
      "metadata": {
        "colab": {
          "base_uri": "https://localhost:8080/"
        },
        "id": "0Wwcds_5Zb_V",
        "outputId": "8dc53065-503d-4dfb-87d1-c09447ffbd27"
      },
      "outputs": [
        {
          "output_type": "stream",
          "name": "stdout",
          "text": [
            "[(1, 4), (1, 6), (2, 3), (2, 4), (2, 5), (3, 6), (4, 6), (5, 6)]\n",
            "\\ARESTAS:\n",
            "[1, 2, 3, 4, 5, 6]\n",
            "Adjacency Matrix:\n",
            "  [0 1 2 3 4 5]\n",
            "0 |0 0 0 1 0 1\n",
            "1 |0 0 1 1 1 0\n",
            "2 |0 1 0 0 0 1\n",
            "3 |1 1 0 0 0 1\n",
            "4 |0 1 0 0 0 1\n",
            "5 |1 0 1 1 1 0\n",
            "\n",
            "Adjacency List:\n",
            "0: 3-> 5\n",
            "1: 2-> 3-> 4\n",
            "2: 1-> 5\n",
            "3: 0-> 1-> 5\n",
            "4: 1-> 5\n",
            "5: 0-> 2-> 3-> 4\n"
          ]
        }
      ],
      "source": [
        "#OPEN GRAPH\n",
        "archive = '/content/drive/MyDrive/Grafos/graph04.txt'\n",
        "\n",
        "graph = Graph(archive)\n",
        "graph.printMatrix()\n",
        "graph.printList()"
      ]
    },
    {
      "cell_type": "markdown",
      "source": [
        "#**TESTANDO O KARGER**"
      ],
      "metadata": {
        "id": "I3zjyBvzj5il"
      }
    },
    {
      "cell_type": "code",
      "execution_count": 119,
      "metadata": {
        "id": "icGuEu4qZb_W"
      },
      "outputs": [],
      "source": [
        "kalgorithm = Karger(graph.adjlist)\n",
        "edge = kalgorithm.Edges();\n",
        "nexec = 1000\n",
        "niteraction = [1,5, 10, 20, 40, 50]\n",
        "\n",
        "cortes = [[] for _ in range(nexec)]\n",
        "for j in range(nexec):\n",
        "    for iter in niteraction:\n",
        "        cortes[j].append(kalgorithm.karger(iter))\n",
        "\n",
        "#Menor corte em toda a rodagem\n",
        "minimo = min(min(corte) for corte in cortes)\n",
        "#vetor para armazenar as contagens do corte minimo\n",
        "nmincut = [0] * len(niteraction)\n",
        "# Calcule a média de cada coluna\n",
        "for vetor in cortes:\n",
        "    for i, valor in enumerate(vetor):\n",
        "        if valor == minimo:\n",
        "            nmincut[i] += 1\n",
        "\n",
        "# Divida cada soma pelo número de listas para obter a média\n",
        "probabilidadeKarger = [i / nexec for i in nmincut]"
      ]
    },
    {
      "cell_type": "markdown",
      "source": [
        "#**TESTANDO O INGÊNUO**"
      ],
      "metadata": {
        "id": "t_XBgI5dj2Ta"
      }
    },
    {
      "cell_type": "code",
      "source": [
        "ing = ingenuo(graph.adjlist, graph.arestas, graph.nvertex)\n",
        "\n",
        "nexec = 1000\n",
        "niteraction = [1,5, 10, 20, 40, 50]\n",
        "\n",
        "cortesI = [[] for _ in range(nexec)]\n",
        "\n",
        "\n",
        "for j in range(nexec):\n",
        "     for nitera in niteraction:\n",
        "         cortesI[j].append(ing.corte_ingenuo(nitera))\n",
        "\n",
        "\n",
        "#vetor para armazenar as contagens do corte minimo\n",
        "nmincutI = [0] * len(niteraction)\n",
        "# Calcule a média de cada coluna\n",
        "for vetor in cortesI:\n",
        "     for i, valor in enumerate(vetor):\n",
        "         if valor == minimo:\n",
        "             nmincutI[i] += 1\n",
        "\n",
        "# # Divida cada soma pelo número de listas para obter a média\n",
        "probabilidadeIgenuo = [i / nexec for i in nmincutI]"
      ],
      "metadata": {
        "id": "xpsnT8hzj147"
      },
      "execution_count": 120,
      "outputs": []
    },
    {
      "cell_type": "code",
      "source": [
        "plt.plot(niteraction, probabilidadeKarger, marker='o',label='Karger')\n",
        "plt.plot(niteraction, probabilidadeIgenuo, marker='o',label='Igenuo')\n",
        "plt.xlabel('Número de iterações')\n",
        "plt.ylabel('Probabilidade do corte mínimo')\n",
        "plt.title(f'Corte mínimo = {minimo}')\n",
        "plt.grid(True)\n",
        "plt.legend()\n",
        "plt.show()"
      ],
      "metadata": {
        "colab": {
          "base_uri": "https://localhost:8080/",
          "height": 472
        },
        "id": "coonhki96hMy",
        "outputId": "1077c249-5b9b-4fee-d26a-86e697a55f73"
      },
      "execution_count": 121,
      "outputs": [
        {
          "output_type": "display_data",
          "data": {
            "text/plain": [
              "<Figure size 640x480 with 1 Axes>"
            ],
            "image/png": "[encoded data removed]"
          },
          "metadata": {}
        }
      ]
    }
  ],
  "metadata": {
    "kernelspec": {
      "display_name": "Python 3",
      "language": "python",
      "name": "python3"
    },
    "language_info": {
      "codemirror_mode": {
        "name": "ipython",
        "version": 3
      },
      "file_extension": ".py",
      "mimetype": "text/x-python",
      "name": "python",
      "nbconvert_exporter": "python",
      "pygments_lexer": "ipython3",
      "version": "3.10.11"
    },
    "colab": {
      "provenance": []
    }
  },
  "nbformat": 4,
  "nbformat_minor": 0
}