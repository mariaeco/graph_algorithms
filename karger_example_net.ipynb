{
 "cells": [
  {
   "cell_type": "markdown",
   "metadata": {},
   "source": [
    "#APLICANDO AO MEU GRAFO"
   ]
  },
  {
   "cell_type": "code",
   "execution_count": 76,
   "metadata": {},
   "outputs": [],
   "source": [
    "import numpy as np\n",
    "import random\n",
    "import copy\n",
    "import matplotlib.pyplot as plt"
   ]
  },
  {
   "cell_type": "code",
   "execution_count": 77,
   "metadata": {},
   "outputs": [],
   "source": [
    "class OpenGraph:\n",
    "    def __init__(self, archive):\n",
    "        self.nvertex, self.adjmatrix, self.adjlist = self.openFile(archive)\n",
    "        self.edges = []\n",
    "\n",
    "    def openFile(self, archive):\n",
    "        with open(archive, 'r') as file:\n",
    "            nvertex = int(file.readline())\n",
    "            line = file.readlines()\n",
    "            adjmatrix = [list(map(lambda x: int(x), l.split())) for l in line[0:]]\n",
    "            adjlist = [[] for _ in range(nvertex)]\n",
    "\n",
    "            for i in range(nvertex):\n",
    "                for j in range(nvertex):\n",
    "                    if adjmatrix[i][j] == 1:\n",
    "                        adjlist[i].append(j)\n",
    "\n",
    "        return nvertex, adjmatrix, adjlist\n",
    "\n",
    "    def printMatrix(self):\n",
    "        print(\"Adjacency Matrix:\")\n",
    "        print(\" \", np.arange(1, len(self.adjmatrix)+1, 1))\n",
    "        for i, l in enumerate(self.adjmatrix):\n",
    "            print(f'{i} |{\" \".join(map(str, l))}')\n",
    "\n",
    "    def printList(self):\n",
    "        print(\"\\nAdjacency List:\")\n",
    "        for i, ladj in enumerate(self.adjlist):\n",
    "            print(f'{i}: {\"-> \".join(map(str, ladj))}')\n",
    "            \n",
    "    def Edges(self): # getting all graph edges\n",
    "      for i in range(0, len(self.adjlist)): \n",
    "        for j in self.adjlist[i]: \n",
    "          if (j,i) not in self.edges: #nao quero que seja uma tupla, pois nao poderei modificar\n",
    "            self.edges.append((i,j)) \n",
    "      #print(\"Edges: \",  self.edges)\n",
    "      return self.edges"
   ]
  },
  {
   "cell_type": "code",
   "execution_count": 78,
   "metadata": {},
   "outputs": [],
   "source": [
    "\n",
    "class Karger:\n",
    "    def __init__(self, vertices,edges):        \n",
    "        self.V = vertices\n",
    "        self.edges = edges\n",
    "        \n",
    "        \n",
    "    def find(self, parent, i):\n",
    "        if parent[i] == i:\n",
    "            return i\n",
    "        return self.find(parent, parent[i])\n",
    "    \n",
    "    def union(self, parent, rank, x, y):\n",
    "        xroot = self.find(parent, x)\n",
    "        yroot = self.find(parent, y)\n",
    "        if rank[xroot] < rank[yroot]:\n",
    "            parent[xroot] = yroot\n",
    "        elif rank[xroot] > rank[yroot]:\n",
    "            parent[yroot] = xroot\n",
    "        else:\n",
    "            parent[yroot] = xroot\n",
    "            rank[xroot] += 1\n",
    "            \n",
    "    def indice(self, aresta, edges):\n",
    "        index = None\n",
    "        for i, edge in enumerate(edges):\n",
    "            if edge == aresta:\n",
    "                index = i\n",
    "                break\n",
    "        return index\n",
    "            \n",
    "    def kargerMinCut(self, n_iter):\n",
    "        \n",
    "        edgeslist = copy.deepcopy(self.edges)\n",
    "        minCut = [] \n",
    "        corteminimo = []\n",
    "        while (n_iter > 0):\n",
    "            \n",
    "            parent = [i for i in range(self.V)]\n",
    "            rank = [0] * self.V\n",
    "            v = self.V #size\n",
    "            while v > 2:\n",
    "                #ESCOLHENDO AS ARESTAS\n",
    "                i = random.randint(0, len(edgeslist) - 1)\n",
    "                u, w = edgeslist[i]\n",
    "                setU = self.find(parent, u)\n",
    "                setW = self.find(parent, w)\n",
    "            \n",
    "                if setU != setW: #\n",
    "                    v -= 1\n",
    "                    self.union(parent, rank, setU, setW)\n",
    "                edgeslist.pop(i)\n",
    "\n",
    "            \n",
    "            cut = 0\n",
    "            for u, w in edgeslist:\n",
    "                setU = self.find(parent, u)\n",
    "                setW = self.find(parent, w)\n",
    "                if setU != setW:\n",
    "                    cut += 1\n",
    "            n_iter -= 1\n",
    "            \n",
    "            n = len(edgeslist)\n",
    "            #print(\"Aresta Final:\", edgeslist) #arestas finals nao utilizadas\n",
    "            edgeslist = copy.deepcopy(self.edges)\n",
    "            corteminimo.append(cut) #corte minimo da interação atual\n",
    "        minCut = min(corteminimo)\n",
    "\n",
    "        return minCut\n",
    "\n",
    "        \n",
    "        \n",
    "        "
   ]
  },
  {
   "cell_type": "code",
   "execution_count": 79,
   "metadata": {},
   "outputs": [],
   "source": [
    "#OPEN GRAPH\n",
    "archive = 'graph02.txt'\n",
    "graph = OpenGraph(archive)\n",
    "#graph.printMatrix()\n",
    "#graph.printList()\n",
    "arestas = graph.Edges()\n",
    "#print(\"Arestas: \",arestas)"
   ]
  },
  {
   "cell_type": "code",
   "execution_count": 80,
   "metadata": {},
   "outputs": [],
   "source": [
    "# Create a graph\n",
    "g = Karger(graph.nvertex, arestas);\n",
    "nexec = 1000\n",
    "niteraction = [1,2, 3, 4, 5,6,7,8,9,10,20,30]\n",
    "cortes = [[] for _ in range(nexec)]\n",
    "\n",
    "for j in range(nexec):\n",
    "    for iter in niteraction:\n",
    "        cortes[j].append(g.kargerMinCut(iter));\n",
    "\n",
    "\n",
    "#Menor corte em toda a rodagem\n",
    "minimo = min(min(corte) for corte in cortes)\n",
    "#vetor para armazenar as contagens do corte minimo\n",
    "nmincut = [0] * len(niteraction)\n",
    "\n",
    "# Calcule a média de cada coluna\n",
    "for vetor in cortes:\n",
    "    for i, valor in enumerate(vetor):\n",
    "        if valor == minimo:\n",
    "            nmincut[i] += 1\n",
    "\n",
    "# Divida cada soma pelo número de listas para obter a média\n",
    "probabilidade = [i / nexec for i in nmincut]\n",
    "\n",
    "\n"
   ]
  },
  {
   "cell_type": "code",
   "execution_count": 81,
   "metadata": {},
   "outputs": [
    {
     "data": {
      "image/png": "[encoded data removed]",
      "text/plain": [
       "<Figure size 640x480 with 1 Axes>"
      ]
     },
     "metadata": {},
     "output_type": "display_data"
    }
   ],
   "source": [
    "\n",
    "plt.plot(niteraction, probabilidade, marker='o',label='karger')\n",
    "plt.xlabel('Número de iterações')\n",
    "plt.ylabel('Probabilidade do corte mínimo')\n",
    "plt.title(f'Corte mínimo = {minimo}')\n",
    "plt.grid(True)\n",
    "plt.legend()\n",
    "plt.show()"
   ]
  }
 ],
 "metadata": {
  "kernelspec": {
   "display_name": "Python 3",
   "language": "python",
   "name": "python3"
  },
  "language_info": {
   "codemirror_mode": {
    "name": "ipython",
    "version": 3
   },
   "file_extension": ".py",
   "mimetype": "text/x-python",
   "name": "python",
   "nbconvert_exporter": "python",
   "pygments_lexer": "ipython3",
   "version": "3.10.11"
  }
 },
 "nbformat": 4,
 "nbformat_minor": 2
}
