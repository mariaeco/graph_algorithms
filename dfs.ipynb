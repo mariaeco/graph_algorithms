{
 "cells": [
  {
   "cell_type": "markdown",
   "metadata": {},
   "source": [
    "DEEP-FIRST SEARCH ALGORITHM IN GRAPHS"
   ]
  },
  {
   "cell_type": "code",
   "execution_count": 109,
   "metadata": {},
   "outputs": [],
   "source": [
    "import pandas as pd\n",
    "import numpy as np\n",
    "from collections import deque\n",
    "from gdf_output import *"
   ]
  },
  {
   "cell_type": "code",
   "execution_count": 110,
   "metadata": {},
   "outputs": [],
   "source": [
    "class Graph:\n",
    "    def __init__(self, archive):\n",
    "        self.nvertex, self.adjmatrix, self.adjlist = self.openFile(archive)\n",
    "\n",
    "    def openFile(self, archive):\n",
    "        with open(archive, 'r') as file:\n",
    "            nvertex = int(file.readline())\n",
    "            line = file.readlines()\n",
    "            adjmatrix = [list(map(lambda x: int(x), l.split())) for l in line[0:]]\n",
    "            adjlist = [[] for _ in range(nvertex)]\n",
    "\n",
    "            for i in range(nvertex):\n",
    "                for j in range(nvertex):\n",
    "                    if adjmatrix[i][j] == 1:\n",
    "                        adjlist[i].append(j+1)\n",
    "\n",
    "        return nvertex, adjmatrix, adjlist\n",
    "\n",
    "    def printMatrix(self):\n",
    "        print(\"Adjacency Matrix:\")\n",
    "        print(\" \", np.arange(1, len(self.adjmatrix)+1, 1))\n",
    "        for i, l in enumerate(self.adjmatrix):\n",
    "            print(f'{i+1} |{\" \".join(map(str, l))}')\n",
    "\n",
    "    def printList(self):\n",
    "        print(\"\\nAdjacency List:\")\n",
    "        for i, ladj in enumerate(self.adjlist):\n",
    "            print(f'{i+1}: {\"-> \".join(map(str, ladj))}')"
   ]
  },
  {
   "cell_type": "code",
   "execution_count": 111,
   "metadata": {},
   "outputs": [],
   "source": [
    "class DeepSearch:\n",
    "    def __init__(self, adjlist): #adjacent adjlist\n",
    "        self.adjlist = adjlist\n",
    "        self.result = self.startDFS()\n",
    "\n",
    "    def inicializar(self):\n",
    "        n = int(len(self.adjlist))\n",
    "        time = 0\n",
    "        output = {'in': [0] * n, 'out': [0] * n, 'parent': [0] * n}\n",
    "        return time, n, output\n",
    "\n",
    "    def DFS(self, v, time, output):\n",
    "        edges = []\n",
    "        time += 1\n",
    "        output['in'][v] = time\n",
    "        for w in self.adjlist[v]:\n",
    "            w -= 1\n",
    "            if output['in'][w] == 0:\n",
    "                output['parent'][w] = v+1\n",
    "                edges.append((v+1, w+1, '0,0,255'))  # azul\n",
    "                time, output, edge = self.DFS(w, time, output)\n",
    "                edges.extend(edge)\n",
    "            if output['out'][w] == 0:\n",
    "                if w+1 != output['parent'][v]:\n",
    "                    print(\"Return edge\") #return to visited vertex\n",
    "                else:\n",
    "                    print(\"Return edge\") #return to parent vertex\n",
    "        \n",
    "        time += 1\n",
    "        output['out'][v] = time\n",
    "        return time, output, edges\n",
    "\n",
    "    def startDFS(self):\n",
    "        time, n, output = self.inicializar()\n",
    "        edges = []\n",
    "        for i in range(n):\n",
    "            if output['in'][i] == 0:\n",
    "                time, result, edge = self.DFS(i, time, output)\n",
    "                edges.extend(edge)\n",
    "\n",
    "        result = {'n': n, 'vparent': output['parent'], 'vchild': range(1, n+1),\n",
    "                  'in': output['in'], 'out': output['out'], 'Edges': edges}\n",
    "\n",
    "        return result\n",
    "\n",
    "\n",
    "    def printDFS(self,output):\n",
    "        df = pd.DataFrame({\"Vertex\": output['vchild'], \"parent\": output['vparent'], 'in': output['in'], 'out': output['out']})\n",
    "        dfSort = df.sort_values(by='Vertex')\n",
    "        print(\"\\n RESULTADO: ----------------------------------------\")\n",
    "        print(dfSort.to_string(index=False))\n",
    "\n",
    "        print(\"\\nEdges:\")\n",
    "        for e in output['Edges']:\n",
    "            print(e)\n"
   ]
  },
  {
   "cell_type": "code",
   "execution_count": 112,
   "metadata": {},
   "outputs": [
    {
     "name": "stdout",
     "output_type": "stream",
     "text": [
      "Adjacency Matrix:\n",
      "  [ 1  2  3  4  5  6  7  8  9 10]\n",
      "1 |0 0 1 0 0 0 0 0 0 0\n",
      "2 |0 0 0 1 0 1 0 0 1 0\n",
      "3 |1 0 0 0 0 1 0 0 0 1\n",
      "4 |0 1 0 0 0 0 0 0 0 0\n",
      "5 |0 0 0 0 0 1 1 0 0 0\n",
      "6 |0 1 1 0 1 0 0 0 0 0\n",
      "7 |0 0 0 0 1 0 0 0 0 0\n",
      "8 |0 0 0 0 0 0 0 0 0 1\n",
      "9 |0 1 0 0 0 0 0 0 0 0\n",
      "10 |0 0 1 0 0 0 0 1 0 0\n",
      "\n",
      "Adjacency List:\n",
      "1: 3\n",
      "2: 4-> 6-> 9\n",
      "3: 1-> 6-> 10\n",
      "4: 2\n",
      "5: 6-> 7\n",
      "6: 2-> 3-> 5\n",
      "7: 5\n",
      "8: 10\n",
      "9: 2\n",
      "10: 3-> 8\n"
     ]
    }
   ],
   "source": [
    "#Lendo o grafo e imprimindo o grafo\n",
    "archive = 'graph01.txt'\n",
    "graph = Graph(archive)\n",
    "graph.printMatrix()\n",
    "graph.printList()"
   ]
  },
  {
   "cell_type": "code",
   "execution_count": 113,
   "metadata": {},
   "outputs": [
    {
     "name": "stdout",
     "output_type": "stream",
     "text": [
      "Return edge\n",
      "Return edge\n",
      "Return edge\n",
      "Return edge\n",
      "Return edge\n",
      "Return edge\n",
      "Return edge\n",
      "Return edge\n",
      "Return edge\n",
      "\n",
      " RESULTADO: ----------------------------------------\n",
      " Vertex  parent  in  out\n",
      "      1       0   1   20\n",
      "      2       6   4    9\n",
      "      3       1   2   19\n",
      "      4       2   5    6\n",
      "      5       6  10   13\n",
      "      6       3   3   14\n",
      "      7       5  11   12\n",
      "      8      10  16   17\n",
      "      9       2   7    8\n",
      "     10       3  15   18\n",
      "\n",
      "Edges:\n",
      "(1, 3, '0,0,255')\n",
      "(3, 6, '0,0,255')\n",
      "(6, 2, '0,0,255')\n",
      "(2, 4, '0,0,255')\n",
      "(2, 9, '0,0,255')\n",
      "(6, 5, '0,0,255')\n",
      "(5, 7, '0,0,255')\n",
      "(3, 10, '0,0,255')\n",
      "(10, 8, '0,0,255')\n"
     ]
    }
   ],
   "source": [
    "dfs =  DeepSearch(graph.adjlist)\n",
    "# Chamando o método para iniciar a busca em profundidade\n",
    "dfs_res = dfs.result\n",
    "dfs.printDFS(dfs_res)"
   ]
  },
  {
   "cell_type": "code",
   "execution_count": 114,
   "metadata": {},
   "outputs": [],
   "source": [
    "result = \"graph01_dfs.gdf\"\n",
    "gerarGDF(dfs_res, result, 0)"
   ]
  }
 ],
 "metadata": {
  "kernelspec": {
   "display_name": "Python 3",
   "language": "python",
   "name": "python3"
  },
  "language_info": {
   "codemirror_mode": {
    "name": "ipython",
    "version": 3
   },
   "file_extension": ".py",
   "mimetype": "text/x-python",
   "name": "python",
   "nbconvert_exporter": "python",
   "pygments_lexer": "ipython3",
   "version": "3.10.11"
  }
 },
 "nbformat": 4,
 "nbformat_minor": 2
}
