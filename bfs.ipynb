{
 "cells": [
  {
   "cell_type": "markdown",
   "metadata": {},
   "source": [
    "BREATH-FIRST SEARCH ALGORITHM IN GRAPHS"
   ]
  },
  {
   "cell_type": "code",
   "execution_count": 462,
   "metadata": {},
   "outputs": [],
   "source": [
    "import pandas as pd\n",
    "import numpy as np\n",
    "from collections import deque\n",
    "from gdf_output import *"
   ]
  },
  {
   "cell_type": "code",
   "execution_count": 463,
   "metadata": {},
   "outputs": [],
   "source": [
    "class Graph:\n",
    "    def __init__(self, archive):\n",
    "        self.nvertex, self.adjmatrix, self.adjlist = self.openFile(archive)\n",
    "\n",
    "    def openFile(self, archive):\n",
    "        with open(archive, 'r') as file:\n",
    "            nvertex = int(file.readline())\n",
    "            line = file.readlines()\n",
    "            adjmatrix = [list(map(lambda x: int(x), l.split())) for l in line[0:]]\n",
    "            adjlist = [[] for _ in range(nvertex)]\n",
    "\n",
    "            for i in range(nvertex):\n",
    "                for j in range(nvertex):\n",
    "                    if adjmatrix[i][j] == 1:\n",
    "                        adjlist[i].append(j+1)\n",
    "\n",
    "        return nvertex, adjmatrix, adjlist\n",
    "\n",
    "    def printMatrix(self):\n",
    "        print(\"Adjacency Matrix:\")\n",
    "        print(np.arange(1,len(self.adjmatrix)+1,1))\n",
    "        for i, l in enumerate(self.adjmatrix):\n",
    "            print(f'{i+1} |{\" \".join(map(str, l))}')\n",
    "\n",
    "    def printList(self):\n",
    "        print(\"\\nAdjacency List:\")\n",
    "        for i, ladj in enumerate(self.adjlist):\n",
    "            print(f'{i+1}: {\"-> \".join(map(str, ladj))}')"
   ]
  },
  {
   "cell_type": "code",
   "execution_count": 464,
   "metadata": {},
   "outputs": [],
   "source": [
    "class BreathSearch:\n",
    "    def __init__(self, adj_list, start):\n",
    "        self.adj_list = adj_list\n",
    "        self.start = start\n",
    "        self.result = self.startBFS(self.start)\n",
    "\n",
    "    def init(self):\n",
    "        n = int(len(self.adj_list))\n",
    "        t = 0\n",
    "        output = {'T': [0] * n, 'LEVEL': [0] * n, 'FATHER': [0] * n}\n",
    "        return t, n, output\n",
    "\n",
    "    def BFS(self, v, output, t):\n",
    "        t += 1\n",
    "        output['LEVEL'][v-1] = 0\n",
    "        output['T'][v-1] = t\n",
    "        visited = []\n",
    "        visited.append(v)\n",
    "        queue = deque()\n",
    "        queue.append(v)\n",
    "        edges = []\n",
    "        while queue:\n",
    "            u = queue.popleft()\n",
    "            for w in self.adj_list[u-1]:\n",
    "                if w not in visited:\n",
    "                    output['FATHER'][w-1] = u\n",
    "                    output['LEVEL'][w-1] = output['LEVEL'][u-1] + 1\n",
    "                    t += 1\n",
    "                    output['T'][w-1] = t\n",
    "                    visited.append(w)\n",
    "                    queue.append(w)\n",
    "                    edges.append((u, w, '0,0,255')) #Father\n",
    "                else:\n",
    "                    if u != w and (abs(output['LEVEL'][u-1]-output['LEVEL'][w-1])) < 2:\n",
    "                        if (w, u) not in [(edge[0], edge[1]) for edge in edges]:\n",
    "                            if output['FATHER'][u-1] == output['FATHER'][w-1]:\n",
    "                                edges.append((u, w, '255,0,0'))  # RED - SIMBLINGS\n",
    "                            elif output['FATHER'][output['FATHER'][u-1]-1] == output['FATHER'][output['FATHER'][w-1]-1]:\n",
    "                                edges.append((u, w, '255,255,0'))  # YELLOW - COUSIN\n",
    "                            elif output['LEVEL'][u-1] == output['LEVEL'][w-1]-1 and output['FATHER'][w-1] != u+1:\n",
    "                                edges.append((u, w, '0,255,0'))  # GREEN - UNCLE\n",
    "\n",
    "\n",
    "        return t, output, edges\n",
    "\n",
    "    def startBFS(self, start):\n",
    "        time, n, output = self.init()\n",
    "        time, table, edges = self.BFS(self.start, output, time) #table is the main output\n",
    "        \n",
    "        for i in range(1, n): \n",
    "            if output['T'][i] == 0:\n",
    "                #print('disconnected graph')\n",
    "                time, table, edges = self.BFS(i, output, time)\n",
    "        \n",
    "        #ORDENANDO AS edges DE FORMA LEXOGRAFICA\n",
    "        for i, edge in enumerate(edges):\n",
    "            if edge[0] > edge[1]:\n",
    "                # Troca os elementos da aresta\n",
    "                edges[i] = (edge[1], edge[0], edge[2])\n",
    "        Edges_sorted = sorted(edges, key=lambda x: (x[0], x[1]))\n",
    "\n",
    "        table = {'n': n, 'vParent': table['FATHER'], 'vchild': range(1, n+1),\n",
    "                  'T': table['T'], 'LEVEL': table['LEVEL'], 'Edges': Edges_sorted}\n",
    "        \n",
    "        \n",
    "        \n",
    "        return table\n",
    "\n",
    "    def printBFS(self, table):\n",
    "        df = pd.DataFrame({\"Vertex\": table['vchild'], \"Parent\": table['vParent'], \"T\": table['T'], 'LEVEL': table['LEVEL']})\n",
    "        dfOrd = df.sort_values(by='Vertex')\n",
    "        print(\"\\n RESULTS: ----------------------------------------\")\n",
    "        print(dfOrd.to_string(index=False))\n",
    "\n",
    "        print(\"\\nEdges:\")\n",
    "        for edge in table['Edges']:\n",
    "            print(edge)\n",
    "\n"
   ]
  },
  {
   "cell_type": "code",
   "execution_count": 465,
   "metadata": {},
   "outputs": [
    {
     "name": "stdout",
     "output_type": "stream",
     "text": [
      "Adjacency Matrix:\n",
      "[ 1  2  3  4  5  6  7  8  9 10]\n",
      "1 |0 0 1 0 0 0 0 0 0 0\n",
      "2 |0 0 0 1 0 1 0 0 1 0\n",
      "3 |1 0 0 0 0 1 0 0 0 1\n",
      "4 |0 1 0 0 0 0 0 0 0 0\n",
      "5 |0 0 0 0 0 1 1 0 0 0\n",
      "6 |0 1 1 0 1 0 0 0 0 0\n",
      "7 |0 0 0 0 1 0 0 0 0 0\n",
      "8 |0 0 0 0 0 0 0 0 0 1\n",
      "9 |0 1 0 0 0 0 0 0 0 0\n",
      "10 |0 0 1 0 0 0 0 1 0 0\n",
      "\n",
      "Adjacency List:\n",
      "1: 3\n",
      "2: 4-> 6-> 9\n",
      "3: 1-> 6-> 10\n",
      "4: 2\n",
      "5: 6-> 7\n",
      "6: 2-> 3-> 5\n",
      "7: 5\n",
      "8: 10\n",
      "9: 2\n",
      "10: 3-> 8\n"
     ]
    }
   ],
   "source": [
    "#Lendo o grafo e imprimindo o grafo\n",
    "archive = 'graph01.txt'\n",
    "graph = Graph(archive)\n",
    "graph.printMatrix()\n",
    "graph.printList()"
   ]
  },
  {
   "cell_type": "code",
   "execution_count": 466,
   "metadata": {},
   "outputs": [
    {
     "name": "stdout",
     "output_type": "stream",
     "text": [
      "\n",
      " RESULTS: ----------------------------------------\n",
      " Vertex  Parent  T  LEVEL\n",
      "      1       0  1      0\n",
      "      2       6  5      3\n",
      "      3       1  2      1\n",
      "      4       2  8      4\n",
      "      5       6  6      3\n",
      "      6       3  3      2\n",
      "      7       5 10      4\n",
      "      8      10  7      3\n",
      "      9       2  9      4\n",
      "     10       3  4      2\n",
      "\n",
      "Edges:\n",
      "(1, 3, '0,0,255')\n",
      "(2, 4, '0,0,255')\n",
      "(2, 6, '0,0,255')\n",
      "(2, 9, '0,0,255')\n",
      "(3, 6, '0,0,255')\n",
      "(3, 10, '0,0,255')\n",
      "(5, 6, '0,0,255')\n",
      "(5, 7, '0,0,255')\n",
      "(8, 10, '0,0,255')\n"
     ]
    }
   ],
   "source": [
    "vstart = 1\n",
    "bfs =  BreathSearch(graph.adjlist, vstart)\n",
    "# Chamando o método para iniciar a busca em profundidade\n",
    "bfs_res = bfs.result\n",
    "bfs.printBFS(bfs_res)"
   ]
  },
  {
   "cell_type": "code",
   "execution_count": 467,
   "metadata": {},
   "outputs": [],
   "source": [
    "result = \"graph01_bfs.gdf\"\n",
    "gerarGDF(bfs_res, result, 0)"
   ]
  },
  {
   "cell_type": "markdown",
   "metadata": {},
   "source": [
    "METRICS"
   ]
  },
  {
   "cell_type": "code",
   "execution_count": 468,
   "metadata": {},
   "outputs": [],
   "source": [
    " # Eccentricity is the distance to the furthest vertex\n",
    "     #(how far can I walk with minimum paths?)\n",
    "     # Central vertices have low eccentricity\n",
    "     # Peripheral vertices have high eccentricity\n",
    "     # Radius is the smallest eccentricity of the graph\n",
    "     # Diameter is the maximum eccentricity of the graph (for this I need the distance between them all)\n",
    "\n",
    "def metricas(adjlist):\n",
    "\n",
    "    qtd_Vertex = len(adjlist)\n",
    "    \n",
    "    eccentricity = []\n",
    "    mean = []\n",
    "    print(qtd_Vertex)\n",
    "    for i in range(1,qtd_Vertex+1):\n",
    "        bfs = BreathSearch(adjlist, i)# self.startBFS(i) \n",
    "        result = bfs.result\n",
    "        eccentricity.append(max(result['LEVEL']))\n",
    "        mean.append(np.mean(result['LEVEL'])) \n",
    "    \n",
    "    #radius\n",
    "    radius  = (min(eccentricity))\n",
    "    #diameter\n",
    "    diameter  = (max(eccentricity))\n",
    "    #mean\n",
    "    mean  = (np.mean(mean))\n",
    "    #Para imprimir:\n",
    "    df = pd.DataFrame({\"Vertex\": range(1, qtd_Vertex+1), \"Eccentricity\": eccentricity})\n",
    "    dfOrd = df.sort_values(by='Vertex')\n",
    "    print(\"\\n RESULTS: ----------------------------------------\")\n",
    "    print(dfOrd)\n",
    "\n",
    "    print(\"\\n\")\n",
    "    print(\"G radius:\", radius)\n",
    "    print(\"G diameter:\", diameter)\n",
    "    print(\"G mean distances:\", mean)\n",
    "\n",
    "    return eccentricity, radius, diameter, mean\n"
   ]
  },
  {
   "cell_type": "code",
   "execution_count": 469,
   "metadata": {},
   "outputs": [
    {
     "name": "stdout",
     "output_type": "stream",
     "text": [
      "10\n",
      "\n",
      " RESULTS: ----------------------------------------\n",
      "   Vertex  Eccentricity\n",
      "0       1             4\n",
      "1       2             4\n",
      "2       3             3\n",
      "3       4             5\n",
      "4       5             4\n",
      "5       6             3\n",
      "6       7             5\n",
      "7       8             5\n",
      "8       9             5\n",
      "9      10             4\n",
      "\n",
      "\n",
      "G radius: 3\n",
      "G diameter: 5\n",
      "G mean distances: 2.44\n"
     ]
    },
    {
     "data": {
      "text/plain": [
       "([4, 4, 3, 5, 4, 3, 5, 5, 5, 4], 3, 5, 2.44)"
      ]
     },
     "execution_count": 469,
     "metadata": {},
     "output_type": "execute_result"
    }
   ],
   "source": [
    "metricas(graph.adjlist)"
   ]
  },
  {
   "cell_type": "markdown",
   "metadata": {},
   "source": [
    "TESTE 2\n"
   ]
  },
  {
   "cell_type": "code",
   "execution_count": 470,
   "metadata": {},
   "outputs": [
    {
     "name": "stdout",
     "output_type": "stream",
     "text": [
      "Adjacency Matrix:\n",
      "[ 1  2  3  4  5  6  7  8  9 10]\n",
      "1 |0 0 1 0 1 0 1 0 0 0\n",
      "2 |0 0 0 0 0 1 0 1 0 0\n",
      "3 |1 0 0 1 1 1 0 0 0 1\n",
      "4 |0 0 1 0 1 0 0 0 0 0\n",
      "5 |1 0 1 1 0 0 0 0 0 0\n",
      "6 |0 1 1 0 0 0 0 0 0 0\n",
      "7 |1 0 0 0 0 0 0 1 0 0\n",
      "8 |0 1 0 0 0 0 1 0 1 0\n",
      "9 |0 0 0 0 0 0 0 1 0 1\n",
      "10 |0 0 1 0 0 0 0 0 1 0\n",
      "\n",
      "Adjacency List:\n",
      "1: 3-> 5-> 7\n",
      "2: 6-> 8\n",
      "3: 1-> 4-> 5-> 6-> 10\n",
      "4: 3-> 5\n",
      "5: 1-> 3-> 4\n",
      "6: 2-> 3\n",
      "7: 1-> 8\n",
      "8: 2-> 7-> 9\n",
      "9: 8-> 10\n",
      "10: 3-> 9\n",
      "\n",
      " RESULTS: ----------------------------------------\n",
      " Vertex  Parent  T  LEVEL\n",
      "      1       0  1      0\n",
      "      2       6  9      3\n",
      "      3       1  2      1\n",
      "      4       3  5      2\n",
      "      5       1  3      1\n",
      "      6       3  6      2\n",
      "      7       1  4      1\n",
      "      8       7  8      2\n",
      "      9      10 10      3\n",
      "     10       3  7      2\n",
      "\n",
      "Edges:\n",
      "(1, 3, '0,0,255')\n",
      "(1, 5, '0,0,255')\n",
      "(1, 7, '0,0,255')\n",
      "(2, 6, '0,0,255')\n",
      "(2, 8, '0,255,0')\n",
      "(3, 4, '0,0,255')\n",
      "(3, 5, '255,0,0')\n",
      "(3, 6, '0,0,255')\n",
      "(3, 10, '0,0,255')\n",
      "(4, 5, '0,255,0')\n",
      "(7, 8, '0,0,255')\n",
      "(8, 9, '0,255,0')\n",
      "(9, 10, '0,0,255')\n"
     ]
    }
   ],
   "source": [
    "#Lendo o grafo e imprimindo o grafo\n",
    "archive2 = 'graph02.txt'\n",
    "graph2 = Graph(archive2)\n",
    "graph2.printMatrix()\n",
    "graph2.printList()\n",
    "vstart = 1\n",
    "bfs2=  BreathSearch(graph2.adjlist, vstart)\n",
    "# Chamando o método para iniciar a busca em profundidade\n",
    "bfs_res2 = bfs2.result\n",
    "bfs.printBFS(bfs_res2)\n",
    "result2 = \"graph02_bfs.gdf\"\n",
    "gerarGDF(bfs_res2, result2, 0)"
   ]
  }
 ],
 "metadata": {
  "kernelspec": {
   "display_name": "Python 3",
   "language": "python",
   "name": "python3"
  },
  "language_info": {
   "codemirror_mode": {
    "name": "ipython",
    "version": 3
   },
   "file_extension": ".py",
   "mimetype": "text/x-python",
   "name": "python",
   "nbconvert_exporter": "python",
   "pygments_lexer": "ipython3",
   "version": "3.10.11"
  }
 },
 "nbformat": 4,
 "nbformat_minor": 2
}
